{
 "cells": [
  {
   "cell_type": "code",
   "execution_count": null,
   "id": "55e6f846-1d5d-41fb-8345-bbf8b853183b",
   "metadata": {},
   "outputs": [
    {
     "name": "stdout",
     "output_type": "stream",
     "text": [
      "type  model  \n",
      "acad  Meta       22.290507\n",
      "      chunk_1    23.002561\n",
      "      chunk_2    22.969536\n",
      "      gpt        24.708105\n",
      "fic   Meta       25.658244\n",
      "      chunk_1    24.808302\n",
      "      chunk_2    24.817924\n",
      "      gpt        26.350559\n",
      "Name: Amount, dtype: float64\n"
     ]
    }
   ],
   "source": []
  },
  {
   "cell_type": "code",
   "execution_count": 1,
   "metadata": {},
   "outputs": [],
   "source": [
    "import os\n",
    "import pandas as pd\n",
    "\n",
    "# Load the CSV file with the correct encoding and specify headers\n",
    "file_path = 'texts_2024_1120_aggregate.csv'\n",
    "\n",
    "# Define the headers\n",
    "headers = ['fullname', 'Measures', 'Amount', 'Level', 'Function'] \n",
    "\n",
    "df = pd.read_csv(file_path, encoding='latin1', names=headers, header=0)\n",
    "df['filename'] = df['fullname'].str.split('/').str[-1]\n",
    "\n",
    "# Extract type, id, and model\n",
    "df[['type', 'id', 'model']] = df['filename'].str.extract(r'(\\w+)_(\\d+)@(\\w+)')"
   ]
  },
  {
   "cell_type": "code",
   "execution_count": 2,
   "metadata": {},
   "outputs": [
    {
     "data": {
      "text/html": [
       "<div>\n",
       "<style scoped>\n",
       "    .dataframe tbody tr th:only-of-type {\n",
       "        vertical-align: middle;\n",
       "    }\n",
       "\n",
       "    .dataframe tbody tr th {\n",
       "        vertical-align: top;\n",
       "    }\n",
       "\n",
       "    .dataframe thead th {\n",
       "        text-align: right;\n",
       "    }\n",
       "</style>\n",
       "<table border=\"1\" class=\"dataframe\">\n",
       "  <thead>\n",
       "    <tr style=\"text-align: right;\">\n",
       "      <th></th>\n",
       "      <th>fullname</th>\n",
       "      <th>Measures</th>\n",
       "      <th>Amount</th>\n",
       "      <th>Level</th>\n",
       "      <th>Function</th>\n",
       "      <th>filename</th>\n",
       "      <th>type</th>\n",
       "      <th>id</th>\n",
       "      <th>model</th>\n",
       "    </tr>\n",
       "  </thead>\n",
       "  <tbody>\n",
       "    <tr>\n",
       "      <th>0</th>\n",
       "      <td>texts_2024_1120_results/chunk_1_acad/acad_0007...</td>\n",
       "      <td>Letter count (Par Avg)</td>\n",
       "      <td>2731.0000</td>\n",
       "      <td>paragraph</td>\n",
       "      <td>average</td>\n",
       "      <td>acad_0007@chunk_1.csv</td>\n",
       "      <td>acad</td>\n",
       "      <td>0007</td>\n",
       "      <td>chunk_1</td>\n",
       "    </tr>\n",
       "    <tr>\n",
       "      <th>1</th>\n",
       "      <td>texts_2024_1120_results/chunk_1_acad/acad_0007...</td>\n",
       "      <td>Letter count (Par SD)</td>\n",
       "      <td>NaN</td>\n",
       "      <td>paragraph</td>\n",
       "      <td>stdev</td>\n",
       "      <td>acad_0007@chunk_1.csv</td>\n",
       "      <td>acad</td>\n",
       "      <td>0007</td>\n",
       "      <td>chunk_1</td>\n",
       "    </tr>\n",
       "    <tr>\n",
       "      <th>2</th>\n",
       "      <td>texts_2024_1120_results/chunk_1_acad/acad_0007...</td>\n",
       "      <td>Letter count (Par Max)</td>\n",
       "      <td>2731.0000</td>\n",
       "      <td>paragraph</td>\n",
       "      <td>maximum</td>\n",
       "      <td>acad_0007@chunk_1.csv</td>\n",
       "      <td>acad</td>\n",
       "      <td>0007</td>\n",
       "      <td>chunk_1</td>\n",
       "    </tr>\n",
       "    <tr>\n",
       "      <th>3</th>\n",
       "      <td>texts_2024_1120_results/chunk_1_acad/acad_0007...</td>\n",
       "      <td>Letter count (Par Min)</td>\n",
       "      <td>2731.0000</td>\n",
       "      <td>paragraph</td>\n",
       "      <td>minimum</td>\n",
       "      <td>acad_0007@chunk_1.csv</td>\n",
       "      <td>acad</td>\n",
       "      <td>0007</td>\n",
       "      <td>chunk_1</td>\n",
       "    </tr>\n",
       "    <tr>\n",
       "      <th>4</th>\n",
       "      <td>texts_2024_1120_results/chunk_1_acad/acad_0007...</td>\n",
       "      <td>Letter count (Sent Avg)</td>\n",
       "      <td>170.6875</td>\n",
       "      <td>sentence</td>\n",
       "      <td>average</td>\n",
       "      <td>acad_0007@chunk_1.csv</td>\n",
       "      <td>acad</td>\n",
       "      <td>0007</td>\n",
       "      <td>chunk_1</td>\n",
       "    </tr>\n",
       "  </tbody>\n",
       "</table>\n",
       "</div>"
      ],
      "text/plain": [
       "                                            fullname                 Measures  \\\n",
       "0  texts_2024_1120_results/chunk_1_acad/acad_0007...   Letter count (Par Avg)   \n",
       "1  texts_2024_1120_results/chunk_1_acad/acad_0007...    Letter count (Par SD)   \n",
       "2  texts_2024_1120_results/chunk_1_acad/acad_0007...   Letter count (Par Max)   \n",
       "3  texts_2024_1120_results/chunk_1_acad/acad_0007...   Letter count (Par Min)   \n",
       "4  texts_2024_1120_results/chunk_1_acad/acad_0007...  Letter count (Sent Avg)   \n",
       "\n",
       "      Amount      Level Function               filename  type    id    model  \n",
       "0  2731.0000  paragraph  average  acad_0007@chunk_1.csv  acad  0007  chunk_1  \n",
       "1        NaN  paragraph    stdev  acad_0007@chunk_1.csv  acad  0007  chunk_1  \n",
       "2  2731.0000  paragraph  maximum  acad_0007@chunk_1.csv  acad  0007  chunk_1  \n",
       "3  2731.0000  paragraph  minimum  acad_0007@chunk_1.csv  acad  0007  chunk_1  \n",
       "4   170.6875   sentence  average  acad_0007@chunk_1.csv  acad  0007  chunk_1  "
      ]
     },
     "execution_count": 2,
     "metadata": {},
     "output_type": "execute_result"
    }
   ],
   "source": [
    "df.head()"
   ]
  },
  {
   "cell_type": "code",
   "execution_count": 20,
   "metadata": {},
   "outputs": [
    {
     "name": "stdout",
     "output_type": "stream",
     "text": [
      "['Letter count (Sent Avg)', 'Letter count (Sent SD)', 'Letter count (Sent Max)', 'Letter count (Sent Min)', 'Word count (Doc)', 'Word count (Sent Avg)', 'Word count (Sent SD)', 'Word count (Sent Max)', 'Word count (Sent Min)', 'Type count (Doc)', 'Type count (Sent Avg)', 'Type count (Sent SD)', 'Type count (Sent Max)', 'Type count (Sent Min)', 'Sentence count (Doc)']\n"
     ]
    }
   ],
   "source": [
    "#measures_to_compare = unique[1::5][:50]\n",
    "filtered_measures = [measure for measure in df['Measures'] if '(Par ' not in measure]\n",
    "print(filtered_measures[:15])\n",
    "# Prepare DataFrames for comparison\n",
    "df = df[df['Measures'].isin(filtered_measures)]\n"
   ]
  },
  {
   "cell_type": "code",
   "execution_count": 21,
   "metadata": {},
   "outputs": [
    {
     "name": "stdout",
     "output_type": "stream",
     "text": [
      "type  model  Measures                         \n",
      "acad  Meta   Adjective avg position (Doc)         0.490135\n",
      "             Adjective avg position (Sent Avg)    0.392278\n",
      "             Adjective avg position (Sent Max)    0.819249\n",
      "             Adjective avg position (Sent Min)    0.048171\n",
      "             Adjective avg position (Sent SD)     0.254250\n",
      "                                                    ...   \n",
      "fic   gpt    Zipf frequency (Sent Max)            6.061212\n",
      "             Zipf frequency (Sent Min)            4.094123\n",
      "             Zipf frequency (Sent SD)             0.444964\n",
      "             Zipf goodness of fit (Doc)           0.945431\n",
      "             Zipf steepness of curve (Doc)        0.677113\n",
      "Name: Amount, Length: 14224, dtype: float64\n"
     ]
    }
   ],
   "source": [
    "grouped = df.groupby(['type', 'model', 'Measures'])\n",
    "\n",
    "# Calculate the mean for each feature in the group\n",
    "mean_features = grouped['Amount'].mean()\n",
    "\n",
    "# Print the results\n",
    "print(mean_features)\n"
   ]
  },
  {
   "cell_type": "code",
   "execution_count": null,
   "metadata": {},
   "outputs": [
    {
     "ename": "TypeError",
     "evalue": "'DataFrameGroupBy' object does not support item assignment",
     "output_type": "error",
     "traceback": [
      "\u001b[1;31m---------------------------------------------------------------------------\u001b[0m",
      "\u001b[1;31mTypeError\u001b[0m                                 Traceback (most recent call last)",
      "Cell \u001b[1;32mIn[23], line 1\u001b[0m\n\u001b[1;32m----> 1\u001b[0m \u001b[43mgrouped\u001b[49m\u001b[43m[\u001b[49m\u001b[38;5;124;43m'\u001b[39;49m\u001b[38;5;124;43maverage\u001b[39;49m\u001b[38;5;124;43m'\u001b[39;49m\u001b[43m]\u001b[49m \u001b[38;5;241m=\u001b[39m grouped[\u001b[38;5;124m'\u001b[39m\u001b[38;5;124mAmount\u001b[39m\u001b[38;5;124m'\u001b[39m]\u001b[38;5;241m.\u001b[39mmean()\n\u001b[0;32m      2\u001b[0m \u001b[38;5;28mprint\u001b[39m(grouped\u001b[38;5;241m.\u001b[39mhead())\n",
      "\u001b[1;31mTypeError\u001b[0m: 'DataFrameGroupBy' object does not support item assignment"
     ]
    }
   ],
   "source": [
    "import matplotlib.pyplot as plt\n",
    "import seaborn as sns\n",
    "\n",
    "# Assuming df is your DataFrame\n",
    "# Filter data for chunk_1 and other models\n",
    "chunk_1_data = df[mean_features['model'] == 'chunk_1']\n",
    "other_models_data = df[df['model'] != 'chunk_1']\n",
    "\n",
    "# Merge the data on 'type' and 'Measures'\n",
    "merged_data = pd.merge(chunk_1_data, other_models_data, on=['type', 'Measures'], suffixes=('_chunk_1', '_other'))\n",
    "\n",
    "# Calculate the difference\n",
    "merged_data['Difference'] = merged_data['Amount_chunk_1'] - merged_data['Amount_other']\n",
    "\n",
    "# Plot the differences\n",
    "plt.figure(figsize=(14, 8))\n",
    "sns.barplot(data=merged_data, x='Measures', y='Difference', hue='type')\n",
    "plt.xticks(rotation=90)\n",
    "plt.title('Differences in Measures between chunk_1 and Other Models')\n",
    "plt.xlabel('Measures')\n",
    "plt.ylabel('Difference')\n",
    "plt.legend(title='Type')\n",
    "plt.tight_layout()\n",
    "plt.show()"
   ]
  },
  {
   "cell_type": "code",
   "execution_count": 28,
   "metadata": {},
   "outputs": [
    {
     "name": "stdout",
     "output_type": "stream",
     "text": [
      "type  model  Measures                         \n",
      "acad  Meta   Adjective avg position (Doc)         [Meta]\n",
      "             Adjective avg position (Sent Avg)    [Meta]\n",
      "             Adjective avg position (Sent Max)    [Meta]\n",
      "             Adjective avg position (Sent Min)    [Meta]\n",
      "             Adjective avg position (Sent SD)     [Meta]\n",
      "                                                   ...  \n",
      "fic   gpt    Zipf frequency (Sent Max)             [gpt]\n",
      "             Zipf frequency (Sent Min)             [gpt]\n",
      "             Zipf frequency (Sent SD)              [gpt]\n",
      "             Zipf goodness of fit (Doc)            [gpt]\n",
      "             Zipf steepness of curve (Doc)         [gpt]\n",
      "Length: 14224, dtype: object\n"
     ]
    },
    {
     "name": "stderr",
     "output_type": "stream",
     "text": [
      "C:\\Users\\20191882\\AppData\\Local\\Temp\\ipykernel_20248\\3540131418.py:2: DeprecationWarning: DataFrameGroupBy.apply operated on the grouping columns. This behavior is deprecated, and in a future version of pandas the grouping columns will be excluded from the operation. Either pass `include_groups=False` to exclude the groupings or explicitly select the grouping columns after groupby to silence this warning.\n",
      "  unique_values = grouped.apply(lambda x: x['model'].unique())\n"
     ]
    }
   ],
   "source": [
    "# Get unique values for each group\n",
    "unique_values = grouped.apply(lambda x: x['model'].unique())\n",
    "\n",
    "# Print the results\n",
    "print(unique_values)"
   ]
  },
  {
   "cell_type": "code",
   "execution_count": null,
   "metadata": {},
   "outputs": [],
   "source": [
    "mean_features['model']=='chunk_1'"
   ]
  }
 ],
 "metadata": {
  "kernelspec": {
   "display_name": "Work",
   "language": "python",
   "name": "python3"
  },
  "language_info": {
   "codemirror_mode": {
    "name": "ipython",
    "version": 3
   },
   "file_extension": ".py",
   "mimetype": "text/x-python",
   "name": "python",
   "nbconvert_exporter": "python",
   "pygments_lexer": "ipython3",
   "version": "3.12.4"
  }
 },
 "nbformat": 4,
 "nbformat_minor": 2
}
